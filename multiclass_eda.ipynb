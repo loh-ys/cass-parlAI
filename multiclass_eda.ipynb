{
  "nbformat": 4,
  "nbformat_minor": 0,
  "metadata": {
    "colab": {
      "name": "multiclass eda.ipynb",
      "provenance": [],
      "collapsed_sections": []
    },
    "kernelspec": {
      "name": "python3",
      "display_name": "Python 3"
    },
    "language_info": {
      "name": "python"
    }
  },
  "cells": [
    {
      "cell_type": "code",
      "metadata": {
        "id": "tJ59ABXfXXw7",
        "colab": {
          "base_uri": "https://localhost:8080/"
        },
        "outputId": "6c827694-1cb8-450a-dfde-09b157b31b51"
      },
      "source": [
        "from google.colab import drive\n",
        "drive.mount('/content/drive')"
      ],
      "execution_count": null,
      "outputs": [
        {
          "output_type": "stream",
          "text": [
            "Drive already mounted at /content/drive; to attempt to forcibly remount, call drive.mount(\"/content/drive\", force_remount=True).\n"
          ],
          "name": "stdout"
        }
      ]
    },
    {
      "cell_type": "code",
      "metadata": {
        "id": "emRAj405XbJv"
      },
      "source": [
        "import os\n",
        "import pickle\n",
        "import random\n",
        "from collections import Counter\n",
        "import time\n",
        "\n",
        "import pandas as pd\n",
        "import numpy as np\n",
        "from sklearn.model_selection import train_test_split\n",
        "from matplotlib import pyplot as plt\n",
        "\n",
        "## pytorch libraries\n",
        "import torch\n",
        "import torch.nn as nn\n",
        "import torch.optim as optim\n",
        "from torch.utils.data import DataLoader, random_split\n",
        "from torch.nn.utils.rnn import pad_sequence\n",
        "\n",
        "\n",
        "import torchtext\n",
        "from torchtext import data\n",
        "from torchtext.datasets import YahooAnswers\n",
        "from torchtext.data import get_tokenizer\n",
        "\n",
        "from torchtext.vocab import vocab, GloVe\n",
        "\n",
        "import spacy"
      ],
      "execution_count": null,
      "outputs": []
    },
    {
      "cell_type": "markdown",
      "metadata": {
        "id": "H4cBiIp-X8ax"
      },
      "source": [
        "# Load data"
      ]
    },
    {
      "cell_type": "code",
      "metadata": {
        "id": "MHLTit1UX5Z6",
        "colab": {
          "base_uri": "https://localhost:8080/"
        },
        "outputId": "0771cdfd-eb79-4b5e-d576-9ae6169e2907"
      },
      "source": [
        "# Load data\n",
        "\n",
        "# set up training and test set iterators \n",
        "\n",
        "train_iter, test_iter = YahooAnswers(split = ('train', 'test'))\n",
        "\n",
        "## convert training and test data to map-style datasets (lists) - easier to work with\n",
        "\n",
        "train_original = list(train_iter)\n",
        "test_original = list(test_iter)\n",
        "\n",
        "## original train dataset is very large: \n",
        "print(len(train_original))\n",
        "\n",
        "# for prototyping purposes, we will only use 5% of this data\n",
        "train_keep, train_discard = train_test_split(train_original, train_size = 0.05, \n",
        "                                        random_state = 123)\n",
        "\n",
        "# further divide the training set into train and validation set\n",
        "# 70% train, 30% validation\n",
        "\n",
        "train_data, val_data = train_test_split(list(train_keep), train_size = 0.7, \n",
        "                                        random_state = 123)"
      ],
      "execution_count": null,
      "outputs": [
        {
          "output_type": "stream",
          "text": [
            "1400000\n"
          ],
          "name": "stdout"
        }
      ]
    },
    {
      "cell_type": "code",
      "metadata": {
        "colab": {
          "base_uri": "https://localhost:8080/"
        },
        "id": "FOcDv1TfX9Ba",
        "outputId": "42908b98-2d6b-4d0e-acc0-60219216fc2e"
      },
      "source": [
        "print(f'Train instances: {len(train_original)}')\n",
        "print(f'Val instances: {len(val_data)}')\n",
        "print(f'Test instances: {len(test_original)}')"
      ],
      "execution_count": null,
      "outputs": [
        {
          "output_type": "stream",
          "text": [
            "Train instances: 1400000\n",
            "Val instances: 21000\n",
            "Test instances: 60000\n"
          ],
          "name": "stdout"
        }
      ]
    },
    {
      "cell_type": "markdown",
      "metadata": {
        "id": "6E1gjAQqYIpB"
      },
      "source": [
        "# Exploratory analysis"
      ]
    },
    {
      "cell_type": "markdown",
      "metadata": {
        "id": "z1ahFC-RYRuK"
      },
      "source": [
        "### Set up nlp module"
      ]
    },
    {
      "cell_type": "code",
      "metadata": {
        "colab": {
          "base_uri": "https://localhost:8080/"
        },
        "id": "vhYDtYA4YIJA",
        "outputId": "fc89ee5a-9b18-4fbc-d918-27d0f62ce03f"
      },
      "source": [
        "# download Spacy large English language model into google colab environment\n",
        "\n",
        "!python -m spacy download en_core_web_lg"
      ],
      "execution_count": null,
      "outputs": [
        {
          "output_type": "stream",
          "text": [
            "Collecting en_core_web_lg==2.2.5\n",
            "  Downloading https://github.com/explosion/spacy-models/releases/download/en_core_web_lg-2.2.5/en_core_web_lg-2.2.5.tar.gz (827.9 MB)\n",
            "\u001b[K     |████████████████████████████████| 827.9 MB 1.2 MB/s \n",
            "\u001b[?25hRequirement already satisfied: spacy>=2.2.2 in /usr/local/lib/python3.7/dist-packages (from en_core_web_lg==2.2.5) (2.2.4)\n",
            "Requirement already satisfied: setuptools in /usr/local/lib/python3.7/dist-packages (from spacy>=2.2.2->en_core_web_lg==2.2.5) (57.4.0)\n",
            "Requirement already satisfied: requests<3.0.0,>=2.13.0 in /usr/local/lib/python3.7/dist-packages (from spacy>=2.2.2->en_core_web_lg==2.2.5) (2.23.0)\n",
            "Requirement already satisfied: tqdm<5.0.0,>=4.38.0 in /usr/local/lib/python3.7/dist-packages (from spacy>=2.2.2->en_core_web_lg==2.2.5) (4.62.0)\n",
            "Requirement already satisfied: preshed<3.1.0,>=3.0.2 in /usr/local/lib/python3.7/dist-packages (from spacy>=2.2.2->en_core_web_lg==2.2.5) (3.0.5)\n",
            "Requirement already satisfied: catalogue<1.1.0,>=0.0.7 in /usr/local/lib/python3.7/dist-packages (from spacy>=2.2.2->en_core_web_lg==2.2.5) (1.0.0)\n",
            "Requirement already satisfied: thinc==7.4.0 in /usr/local/lib/python3.7/dist-packages (from spacy>=2.2.2->en_core_web_lg==2.2.5) (7.4.0)\n",
            "Requirement already satisfied: srsly<1.1.0,>=1.0.2 in /usr/local/lib/python3.7/dist-packages (from spacy>=2.2.2->en_core_web_lg==2.2.5) (1.0.5)\n",
            "Requirement already satisfied: numpy>=1.15.0 in /usr/local/lib/python3.7/dist-packages (from spacy>=2.2.2->en_core_web_lg==2.2.5) (1.19.5)\n",
            "Requirement already satisfied: plac<1.2.0,>=0.9.6 in /usr/local/lib/python3.7/dist-packages (from spacy>=2.2.2->en_core_web_lg==2.2.5) (1.1.3)\n",
            "Requirement already satisfied: wasabi<1.1.0,>=0.4.0 in /usr/local/lib/python3.7/dist-packages (from spacy>=2.2.2->en_core_web_lg==2.2.5) (0.8.2)\n",
            "Requirement already satisfied: murmurhash<1.1.0,>=0.28.0 in /usr/local/lib/python3.7/dist-packages (from spacy>=2.2.2->en_core_web_lg==2.2.5) (1.0.5)\n",
            "Requirement already satisfied: cymem<2.1.0,>=2.0.2 in /usr/local/lib/python3.7/dist-packages (from spacy>=2.2.2->en_core_web_lg==2.2.5) (2.0.5)\n",
            "Requirement already satisfied: blis<0.5.0,>=0.4.0 in /usr/local/lib/python3.7/dist-packages (from spacy>=2.2.2->en_core_web_lg==2.2.5) (0.4.1)\n",
            "Requirement already satisfied: importlib-metadata>=0.20 in /usr/local/lib/python3.7/dist-packages (from catalogue<1.1.0,>=0.0.7->spacy>=2.2.2->en_core_web_lg==2.2.5) (4.6.4)\n",
            "Requirement already satisfied: zipp>=0.5 in /usr/local/lib/python3.7/dist-packages (from importlib-metadata>=0.20->catalogue<1.1.0,>=0.0.7->spacy>=2.2.2->en_core_web_lg==2.2.5) (3.5.0)\n",
            "Requirement already satisfied: typing-extensions>=3.6.4 in /usr/local/lib/python3.7/dist-packages (from importlib-metadata>=0.20->catalogue<1.1.0,>=0.0.7->spacy>=2.2.2->en_core_web_lg==2.2.5) (3.7.4.3)\n",
            "Requirement already satisfied: chardet<4,>=3.0.2 in /usr/local/lib/python3.7/dist-packages (from requests<3.0.0,>=2.13.0->spacy>=2.2.2->en_core_web_lg==2.2.5) (3.0.4)\n",
            "Requirement already satisfied: idna<3,>=2.5 in /usr/local/lib/python3.7/dist-packages (from requests<3.0.0,>=2.13.0->spacy>=2.2.2->en_core_web_lg==2.2.5) (2.10)\n",
            "Requirement already satisfied: urllib3!=1.25.0,!=1.25.1,<1.26,>=1.21.1 in /usr/local/lib/python3.7/dist-packages (from requests<3.0.0,>=2.13.0->spacy>=2.2.2->en_core_web_lg==2.2.5) (1.24.3)\n",
            "Requirement already satisfied: certifi>=2017.4.17 in /usr/local/lib/python3.7/dist-packages (from requests<3.0.0,>=2.13.0->spacy>=2.2.2->en_core_web_lg==2.2.5) (2021.5.30)\n",
            "\u001b[38;5;2m✔ Download and installation successful\u001b[0m\n",
            "You can now load the model via spacy.load('en_core_web_lg')\n"
          ],
          "name": "stdout"
        }
      ]
    },
    {
      "cell_type": "code",
      "metadata": {
        "colab": {
          "base_uri": "https://localhost:8080/"
        },
        "id": "qlpipPeuYNph",
        "outputId": "da9a6337-6ed0-4e69-ed83-e06d76b4a287"
      },
      "source": [
        "#Link alias 'en' to large language english model\n",
        "\n",
        "!python -m spacy link en_core_web_lg en --force\n",
        "\n",
        "# use spacy tokenizer\n",
        "tokenizer = get_tokenizer('spacy', language = 'en')"
      ],
      "execution_count": null,
      "outputs": [
        {
          "output_type": "stream",
          "text": [
            "\u001b[38;5;2m✔ Linking successful\u001b[0m\n",
            "/usr/local/lib/python3.7/dist-packages/en_core_web_lg -->\n",
            "/usr/local/lib/python3.7/dist-packages/spacy/data/en\n",
            "You can now load the model via spacy.load('en')\n"
          ],
          "name": "stdout"
        }
      ]
    },
    {
      "cell_type": "markdown",
      "metadata": {
        "id": "VVM-cOznYUAN"
      },
      "source": [
        "### EDA"
      ]
    },
    {
      "cell_type": "code",
      "metadata": {
        "colab": {
          "base_uri": "https://localhost:8080/"
        },
        "id": "j1XctVehYQ4K",
        "outputId": "031b99a6-5147-42ae-eaeb-b461b2ce16bb"
      },
      "source": [
        "# get distribution of labels and text lengths in the train set\n",
        "\n",
        "label_counter = Counter()\n",
        "token_counter = Counter()\n",
        "\n",
        "for label, text in train_data:\n",
        "  label_counter[label] += 1 \n",
        "  token_counter[len(tokenizer(text))] += 1\n",
        "\n",
        "print(label_counter)\n",
        "print(token_counter)\n",
        "\n",
        "# make sure the number of labels = number of instances \n",
        "print(f'Number of labels: {sum(label_counter.values())}')\n",
        "print(f'Number of text lengths: {sum(token_counter.values())}')"
      ],
      "execution_count": null,
      "outputs": [
        {
          "output_type": "stream",
          "text": [
            "Counter({9: 4987, 3: 4980, 7: 4971, 2: 4947, 6: 4941, 5: 4880, 4: 4860, 1: 4858, 8: 4829, 10: 4747})\n",
            "Counter({24: 514, 23: 510, 26: 507, 27: 497, 29: 490, 30: 488, 22: 484, 25: 482, 34: 479, 36: 477, 35: 474, 31: 473, 28: 469, 33: 466, 21: 465, 20: 458, 37: 451, 39: 447, 18: 444, 32: 437, 19: 436, 16: 435, 38: 435, 17: 426, 40: 421, 43: 413, 42: 409, 46: 405, 44: 403, 49: 401, 47: 400, 41: 391, 45: 390, 15: 389, 48: 387, 52: 379, 51: 376, 50: 373, 59: 364, 54: 359, 57: 358, 55: 357, 53: 352, 58: 348, 60: 342, 14: 341, 56: 339, 61: 339, 13: 334, 64: 310, 62: 308, 72: 304, 74: 302, 70: 300, 63: 297, 66: 297, 69: 293, 12: 292, 68: 292, 65: 290, 71: 287, 77: 286, 73: 286, 79: 265, 67: 265, 78: 264, 81: 262, 76: 260, 82: 260, 11: 250, 80: 248, 83: 245, 88: 244, 75: 242, 86: 240, 84: 236, 93: 234, 85: 230, 90: 217, 92: 212, 91: 208, 96: 205, 87: 203, 100: 201, 94: 198, 89: 198, 97: 198, 95: 196, 99: 196, 106: 189, 102: 187, 10: 186, 114: 186, 98: 183, 104: 182, 101: 182, 116: 181, 105: 180, 115: 176, 125: 175, 110: 175, 109: 173, 103: 171, 111: 168, 112: 162, 108: 162, 117: 157, 121: 157, 118: 156, 107: 154, 123: 152, 113: 149, 127: 147, 124: 145, 9: 144, 132: 142, 122: 140, 130: 140, 128: 139, 129: 137, 126: 137, 131: 136, 142: 136, 120: 135, 119: 133, 140: 127, 133: 127, 138: 125, 148: 122, 141: 120, 145: 119, 134: 117, 165: 108, 147: 105, 149: 104, 136: 104, 137: 104, 158: 103, 135: 103, 150: 103, 146: 102, 157: 101, 144: 101, 159: 100, 143: 100, 152: 99, 155: 98, 154: 98, 151: 97, 8: 95, 164: 94, 139: 94, 166: 93, 162: 93, 153: 93, 168: 92, 167: 89, 156: 88, 161: 86, 172: 85, 175: 85, 171: 85, 163: 84, 170: 81, 180: 81, 178: 81, 181: 80, 177: 80, 169: 78, 173: 76, 182: 75, 192: 75, 160: 73, 210: 73, 176: 71, 179: 70, 202: 69, 174: 68, 186: 68, 188: 68, 185: 65, 187: 65, 204: 64, 196: 64, 191: 64, 189: 64, 194: 63, 190: 63, 184: 62, 212: 62, 183: 62, 197: 62, 198: 61, 201: 60, 208: 60, 199: 60, 203: 59, 195: 58, 211: 57, 200: 56, 193: 56, 223: 54, 222: 53, 221: 53, 207: 52, 244: 51, 231: 50, 205: 50, 217: 49, 7: 47, 216: 47, 224: 47, 209: 46, 218: 46, 241: 45, 242: 45, 234: 45, 220: 45, 214: 45, 243: 44, 230: 44, 238: 44, 213: 43, 225: 43, 252: 43, 246: 43, 206: 42, 249: 42, 227: 42, 226: 41, 236: 40, 281: 40, 228: 40, 261: 40, 229: 39, 219: 39, 237: 39, 215: 39, 245: 39, 269: 38, 235: 38, 251: 38, 247: 38, 239: 37, 256: 37, 240: 37, 255: 37, 254: 35, 232: 35, 277: 34, 253: 34, 233: 34, 267: 33, 263: 32, 259: 32, 250: 32, 279: 31, 260: 31, 271: 31, 283: 31, 297: 30, 248: 30, 266: 30, 268: 30, 288: 29, 265: 29, 272: 29, 287: 29, 304: 28, 289: 28, 270: 28, 307: 28, 295: 28, 292: 27, 293: 27, 264: 27, 308: 27, 278: 26, 262: 26, 290: 25, 276: 25, 274: 25, 309: 25, 257: 25, 326: 25, 339: 24, 280: 23, 296: 23, 275: 23, 294: 23, 330: 23, 320: 22, 302: 22, 314: 22, 258: 22, 273: 22, 284: 22, 300: 22, 323: 21, 321: 21, 298: 21, 306: 21, 311: 20, 342: 20, 286: 20, 325: 20, 6: 20, 354: 19, 318: 19, 305: 19, 313: 19, 333: 18, 285: 18, 312: 18, 322: 18, 336: 18, 319: 18, 315: 17, 291: 17, 343: 17, 316: 17, 338: 17, 299: 17, 364: 16, 377: 16, 344: 16, 332: 16, 346: 16, 301: 16, 335: 16, 282: 16, 356: 15, 303: 15, 357: 14, 328: 14, 317: 14, 310: 14, 368: 14, 337: 13, 388: 13, 355: 13, 341: 13, 381: 13, 348: 13, 380: 13, 370: 13, 360: 13, 374: 13, 383: 12, 384: 12, 345: 12, 324: 12, 382: 12, 403: 12, 379: 12, 351: 12, 349: 12, 347: 12, 391: 12, 402: 12, 369: 12, 392: 12, 416: 12, 327: 12, 398: 12, 390: 11, 412: 11, 340: 11, 455: 11, 394: 11, 334: 11, 353: 11, 385: 11, 331: 11, 329: 11, 393: 11, 467: 10, 367: 10, 450: 10, 471: 10, 378: 10, 387: 10, 404: 10, 358: 9, 419: 9, 373: 9, 366: 9, 464: 9, 465: 9, 376: 9, 406: 9, 408: 9, 458: 9, 361: 9, 463: 9, 350: 9, 371: 9, 435: 9, 418: 9, 372: 9, 427: 9, 5: 9, 422: 8, 423: 8, 397: 8, 477: 8, 494: 8, 510: 8, 375: 8, 432: 8, 473: 8, 365: 8, 424: 8, 386: 8, 399: 8, 734: 8, 461: 8, 426: 8, 409: 8, 468: 7, 359: 7, 434: 7, 525: 7, 452: 7, 779: 7, 472: 7, 479: 7, 492: 7, 405: 7, 436: 7, 389: 7, 439: 7, 395: 7, 441: 7, 635: 6, 447: 6, 541: 6, 352: 6, 495: 6, 728: 6, 443: 6, 421: 6, 496: 6, 400: 6, 363: 6, 413: 6, 396: 6, 499: 6, 459: 6, 489: 6, 476: 6, 411: 6, 428: 6, 520: 6, 448: 6, 506: 6, 429: 6, 417: 6, 781: 6, 449: 6, 401: 6, 433: 6, 711: 5, 519: 5, 599: 5, 362: 5, 513: 5, 523: 5, 748: 5, 512: 5, 460: 5, 488: 5, 756: 5, 574: 5, 442: 5, 582: 5, 787: 5, 440: 5, 446: 5, 415: 5, 481: 5, 410: 5, 457: 5, 491: 5, 456: 5, 437: 5, 768: 5, 425: 5, 493: 5, 445: 5, 707: 5, 478: 5, 551: 5, 507: 5, 518: 5, 657: 5, 407: 5, 660: 4, 577: 4, 487: 4, 522: 4, 514: 4, 753: 4, 561: 4, 653: 4, 538: 4, 625: 4, 451: 4, 703: 4, 752: 4, 651: 4, 797: 4, 682: 4, 562: 4, 567: 4, 747: 4, 547: 4, 811: 4, 516: 4, 610: 4, 692: 4, 713: 4, 644: 4, 444: 4, 732: 4, 540: 4, 484: 4, 537: 4, 454: 4, 474: 4, 503: 4, 414: 4, 841: 4, 650: 4, 769: 4, 702: 4, 639: 4, 490: 4, 485: 4, 511: 3, 760: 3, 634: 3, 766: 3, 597: 3, 777: 3, 643: 3, 712: 3, 4: 3, 616: 3, 755: 3, 746: 3, 600: 3, 462: 3, 581: 3, 714: 3, 602: 3, 553: 3, 857: 3, 673: 3, 706: 3, 588: 3, 611: 3, 480: 3, 592: 3, 798: 3, 571: 3, 528: 3, 533: 3, 789: 3, 529: 3, 591: 3, 720: 3, 566: 3, 558: 3, 731: 3, 486: 3, 791: 3, 469: 3, 726: 3, 700: 3, 593: 3, 515: 3, 745: 3, 735: 3, 757: 3, 504: 3, 699: 3, 475: 3, 605: 3, 796: 3, 622: 3, 743: 3, 544: 3, 723: 3, 656: 3, 945: 3, 652: 3, 778: 3, 502: 3, 799: 3, 840: 3, 698: 3, 509: 3, 501: 3, 598: 2, 623: 2, 739: 2, 876: 2, 721: 2, 584: 2, 749: 2, 828: 2, 944: 2, 664: 2, 701: 2, 555: 2, 843: 2, 559: 2, 754: 2, 466: 2, 790: 2, 717: 2, 579: 2, 784: 2, 550: 2, 865: 2, 638: 2, 742: 2, 438: 2, 823: 2, 911: 2, 676: 2, 498: 2, 898: 2, 609: 2, 500: 2, 580: 2, 764: 2, 751: 2, 1062: 2, 556: 2, 526: 2, 738: 2, 631: 2, 826: 2, 715: 2, 795: 2, 640: 2, 954: 2, 430: 2, 539: 2, 877: 2, 637: 2, 688: 2, 545: 2, 572: 2, 794: 2, 560: 2, 709: 2, 542: 2, 420: 2, 833: 2, 482: 2, 744: 2, 812: 2, 774: 2, 576: 2, 483: 2, 844: 2, 536: 2, 665: 2, 772: 2, 620: 2, 816: 2, 783: 2, 645: 2, 543: 2, 661: 2, 819: 2, 824: 2, 727: 2, 716: 2, 881: 2, 647: 2, 853: 2, 786: 2, 595: 2, 608: 2, 804: 2, 737: 2, 694: 2, 642: 2, 696: 2, 915: 2, 858: 2, 497: 2, 708: 2, 648: 2, 615: 2, 612: 2, 666: 2, 596: 2, 621: 2, 736: 2, 549: 2, 808: 2, 564: 2, 453: 2, 836: 2, 575: 2, 722: 2, 683: 2, 534: 2, 554: 2, 690: 2, 780: 2, 470: 2, 654: 2, 882: 2, 937: 2, 668: 1, 761: 1, 807: 1, 578: 1, 938: 1, 1025: 1, 613: 1, 1045: 1, 1049: 1, 927: 1, 1122: 1, 953: 1, 809: 1, 849: 1, 889: 1, 921: 1, 681: 1, 782: 1, 590: 1, 1319: 1, 630: 1, 1006: 1, 505: 1, 1030: 1, 674: 1, 1170: 1, 641: 1, 589: 1, 909: 1, 626: 1, 822: 1, 845: 1, 552: 1, 905: 1, 765: 1, 847: 1, 951: 1, 636: 1, 767: 1, 839: 1, 815: 1, 750: 1, 563: 1, 705: 1, 802: 1, 793: 1, 917: 1, 910: 1, 950: 1, 1185: 1, 663: 1, 818: 1, 741: 1, 649: 1, 677: 1, 603: 1, 805: 1, 687: 1, 829: 1, 870: 1, 565: 1, 801: 1, 431: 1, 729: 1, 864: 1, 733: 1, 894: 1, 585: 1, 837: 1, 629: 1, 695: 1, 863: 1, 587: 1, 862: 1, 1017: 1, 669: 1, 614: 1, 854: 1, 831: 1, 977: 1, 885: 1, 704: 1, 697: 1, 850: 1, 759: 1, 1123: 1, 904: 1, 810: 1, 546: 1, 628: 1, 832: 1, 659: 1, 776: 1, 524: 1, 530: 1, 710: 1, 1080: 1, 730: 1, 834: 1, 646: 1, 531: 1, 693: 1, 606: 1, 618: 1, 859: 1, 1032: 1, 902: 1, 893: 1, 899: 1, 913: 1, 929: 1, 867: 1, 842: 1, 535: 1, 3: 1, 607: 1, 685: 1, 835: 1, 680: 1, 919: 1, 573: 1, 1070: 1, 878: 1, 532: 1, 906: 1, 724: 1, 718: 1, 928: 1, 873: 1, 521: 1, 785: 1, 671: 1, 916: 1, 570: 1, 1043: 1, 855: 1, 830: 1, 548: 1, 856: 1, 912: 1, 1086: 1})\n",
            "Number of labels: 49000\n",
            "Number of text lengths: 49000\n"
          ],
          "name": "stdout"
        }
      ]
    },
    {
      "cell_type": "markdown",
      "metadata": {
        "id": "NfM0I8QkYWdD"
      },
      "source": [
        "### Visualise distribution"
      ]
    },
    {
      "cell_type": "code",
      "metadata": {
        "colab": {
          "base_uri": "https://localhost:8080/",
          "height": 353
        },
        "id": "8WINnJt8YXzN",
        "outputId": "955dfbd5-2669-4a18-dad8-168450bcbff2"
      },
      "source": [
        "# visualise the label distribution\n",
        "fig = plt.figure(figsize=(5,5))\n",
        "ax = plt.subplot(111)\n",
        "\n",
        "x = list(label_counter.keys())\n",
        "y = list(label_counter.values())\n",
        "\n",
        "# convert y to proportion for easier comparison\n",
        "y = [i / sum(y) for i in y]\n",
        "\n",
        "plt.xlim(0.5,10.5)\n",
        "plt.xticks(np.arange(1,11))\n",
        "\n",
        "ax.bar(x,y)\n",
        "\n",
        "plt.xlabel('Label', fontsize = 'large')\n",
        "plt.ylabel('Frequency (proportion of total)', fontsize = 'large')\n",
        "\n",
        "ax.spines['top'].set_visible(False)\n",
        "ax.spines['right'].set_visible(False)\n",
        "\n",
        "plt.title('Distribution of sampled train set labels')\n",
        "\n",
        "# save model\n",
        "save_path = '/content/drive/My Drive/ARP/figures/sample_label_distribution.png'\n",
        "\n",
        "fig.savefig(save_path)"
      ],
      "execution_count": null,
      "outputs": [
        {
          "output_type": "display_data",
          "data": {
            "image/png": "[encoded data removed]",
            "text/plain": [
              "<Figure size 360x360 with 1 Axes>"
            ]
          },
          "metadata": {
            "needs_background": "light"
          }
        }
      ]
    },
    {
      "cell_type": "code",
      "metadata": {
        "colab": {
          "base_uri": "https://localhost:8080/"
        },
        "id": "iBfCwvQzduXK",
        "outputId": "f5d7cf93-a635-4977-b7a0-b71b64758e89"
      },
      "source": [
        "list(y)"
      ],
      "execution_count": null,
      "outputs": [
        {
          "output_type": "execute_result",
          "data": {
            "text/plain": [
              "[0.10177551020408163,\n",
              " 0.09855102040816327,\n",
              " 0.10163265306122449,\n",
              " 0.10095918367346939,\n",
              " 0.09918367346938775,\n",
              " 0.09959183673469388,\n",
              " 0.09914285714285714,\n",
              " 0.10144897959183674,\n",
              " 0.09687755102040817,\n",
              " 0.10083673469387755]"
            ]
          },
          "metadata": {},
          "execution_count": 57
        }
      ]
    },
    {
      "cell_type": "code",
      "metadata": {
        "colab": {
          "base_uri": "https://localhost:8080/",
          "height": 461
        },
        "id": "fJFH-Dc9YZ0C",
        "outputId": "c0a6224a-3c6d-4ff3-f9b8-d0d1a0c21c87"
      },
      "source": [
        "# visualise the text length distribution\n",
        "fig = plt.figure(figsize=(7,7))\n",
        "ax = plt.subplot(111)\n",
        "\n",
        "x = token_counter.keys()\n",
        "y = token_counter.values()\n",
        "\n",
        "# convert y to proportion for easier comparison\n",
        "y = [i / sum(y) for i in y]\n",
        "\n",
        "ax.bar(x,y)\n",
        "\n",
        "plt.xlabel('Text lengths', fontsize = 'large')\n",
        "plt.ylabel('Frequency (proportion of total)', fontsize = 'large')\n",
        "\n",
        "ax.spines['top'].set_visible(False)\n",
        "ax.spines['right'].set_visible(False)\n",
        "\n",
        "plt.title('Distribution of sampled text lengths')\n",
        "\n",
        "# save model\n",
        "save_path = '/content/drive/My Drive/ARP/figures/sample_text_distribution.png'\n",
        "\n",
        "fig.savefig(save_path)"
      ],
      "execution_count": null,
      "outputs": [
        {
          "output_type": "display_data",
          "data": {
            "image/png": "[encoded data removed]",
            "text/plain": [
              "<Figure size 504x504 with 1 Axes>"
            ]
          },
          "metadata": {
            "needs_background": "light"
          }
        }
      ]
    },
    {
      "cell_type": "code",
      "metadata": {
        "colab": {
          "base_uri": "https://localhost:8080/"
        },
        "id": "qBM7C1LRj-v_",
        "outputId": "3af86dfc-669d-4e32-a3a5-ad2d4d995528"
      },
      "source": [
        "# descriptive stats\n",
        "\n",
        "# get list with each element repeated by its frequency\n",
        "token_ele = sorted(token_counter.elements())\n",
        "\n",
        "print(f'Count: {len(token_ele)}')\n",
        "print(f'Mean: {np.mean(token_ele)}')\n",
        "print(f'Median: {np.median(token_ele)}')\n",
        "print(f'Standard deviation: {np.std(token_ele)}')\n",
        "print(f'Min: {np.min(token_ele)}')\n",
        "print(f'Max: {np.max(token_ele)}')\n"
      ],
      "execution_count": null,
      "outputs": [
        {
          "output_type": "stream",
          "text": [
            "Count: 49000\n",
            "Mean: 107.95436734693878\n",
            "Median: 71.0\n",
            "Standard deviation: 115.63624563871001\n",
            "Min: 3\n",
            "Max: 1319\n"
          ],
          "name": "stdout"
        }
      ]
    },
    {
      "cell_type": "markdown",
      "metadata": {
        "id": "O7on16cliFwL"
      },
      "source": [
        "### EDA of original train set"
      ]
    },
    {
      "cell_type": "code",
      "metadata": {
        "colab": {
          "base_uri": "https://localhost:8080/"
        },
        "id": "nJ819My9c0BY",
        "outputId": "6cefc601-5a26-443f-e9fa-7e33823909ca"
      },
      "source": [
        "## see whether these distributions are reflective of the original train data\n",
        "\n",
        "# get distribution of labels and text lengths in the original train set\n",
        "\n",
        "ori_label_counter = Counter()\n",
        "\n",
        "for label, text in train_original:\n",
        "  ori_label_counter[label] += 1 \n",
        "  \n",
        "\n",
        "print(ori_label_counter)\n",
        "\n",
        "# make sure the number of labels = number of instances \n",
        "print(f'Number of labels: {sum(ori_label_counter.values())}')\n"
      ],
      "execution_count": null,
      "outputs": [
        {
          "output_type": "stream",
          "text": [
            "Counter({5: 140000, 6: 140000, 3: 140000, 7: 140000, 2: 140000, 8: 140000, 4: 140000, 9: 140000, 10: 140000, 1: 140000})\n",
            "Number of labels: 1400000\n"
          ],
          "name": "stdout"
        }
      ]
    },
    {
      "cell_type": "code",
      "metadata": {
        "id": "wyVZCnRLlGLc"
      },
      "source": [
        "ori_token_counter = Counter()\n",
        "for label, text in train_original:\n",
        "  ori_token_counter[len(tokenizer(text))] += 1\n",
        "\n",
        "print(ori_token_counter)\n",
        "print(f'Number of text lengths: {sum(ori_token_counter.values())}')"
      ],
      "execution_count": null,
      "outputs": []
    },
    {
      "cell_type": "markdown",
      "metadata": {
        "id": "mBoMorH0j8yU"
      },
      "source": [
        "Optional: export/load tokens"
      ]
    },
    {
      "cell_type": "code",
      "metadata": {
        "id": "cNHQcfB8fVXx"
      },
      "source": [
        "# token_counter is large and takes quite some time to execute, save these tokens\n",
        "# to not have to run them every time\n",
        "\n",
        "token_path = '/content/drive/My Drive/ARP/figures/original_token_lengths.pickle'\n",
        "\n",
        "with open(token_path, 'wb') as f:\n",
        "  pickle.dump(ori_token_counter, f)"
      ],
      "execution_count": null,
      "outputs": []
    },
    {
      "cell_type": "code",
      "metadata": {
        "id": "hdOC0_5Dj7sp"
      },
      "source": [
        "## load tokens from path\n",
        "\n",
        "\n",
        "token_path = '/content/drive/My Drive/ARP/figures/original_token_lengths.pickle'\n",
        "\n",
        "with open(token_path, 'rb') as f:\n",
        "  ori_token_counter = pickle.load(f)"
      ],
      "execution_count": null,
      "outputs": []
    },
    {
      "cell_type": "markdown",
      "metadata": {
        "id": "s8Oq-YD0lcrj"
      },
      "source": [
        "Visualise distributions"
      ]
    },
    {
      "cell_type": "code",
      "metadata": {
        "colab": {
          "base_uri": "https://localhost:8080/",
          "height": 353
        },
        "id": "W4iQjqbBlbyM",
        "outputId": "1f3158cc-79f9-4f78-9a78-bbbc1acb9c35"
      },
      "source": [
        "# visualise the label distribution\n",
        "fig = plt.figure(figsize=(5,5))\n",
        "ax = plt.subplot(111)\n",
        "\n",
        "x = list(ori_label_counter.keys())\n",
        "y = list(ori_label_counter.values())\n",
        "\n",
        "# convert y to proportion for easier comparison\n",
        "y = [i / sum(y) for i in y]\n",
        "\n",
        "\n",
        "plt.xlim(0.5,10.5)\n",
        "plt.xticks(np.arange(1,11))\n",
        "\n",
        "ax.bar(x,y)\n",
        "\n",
        "plt.xlabel('Label', fontsize = 'large')\n",
        "plt.ylabel('Frequency (proportion of total)', fontsize = 'large')\n",
        "\n",
        "ax.spines['top'].set_visible(False)\n",
        "ax.spines['right'].set_visible(False)\n",
        "\n",
        "plt.title('Distribution of original train set labels')\n",
        "\n",
        "# save model\n",
        "save_path = '/content/drive/My Drive/ARP/figures/original_label_distribution.png'\n",
        "\n",
        "fig.savefig(save_path)"
      ],
      "execution_count": null,
      "outputs": [
        {
          "output_type": "display_data",
          "data": {
            "image/png": "[encoded data removed]",
            "text/plain": [
              "<Figure size 360x360 with 1 Axes>"
            ]
          },
          "metadata": {
            "needs_background": "light"
          }
        }
      ]
    },
    {
      "cell_type": "code",
      "metadata": {
        "colab": {
          "base_uri": "https://localhost:8080/",
          "height": 461
        },
        "id": "9Ok8kIwll5-N",
        "outputId": "1959e9da-c027-469f-913d-cd7937db7da2"
      },
      "source": [
        "# visualise the text length distribution\n",
        "fig = plt.figure(figsize=(7,7))\n",
        "ax = plt.subplot(111)\n",
        "\n",
        "x = ori_token_counter.keys()\n",
        "y = ori_token_counter.values()\n",
        "\n",
        "# convert y to proportion for easier comparison\n",
        "y = [i / sum(y) for i in y]\n",
        "\n",
        "ax.bar(x,y)\n",
        "\n",
        "plt.xlabel('Text lengths', fontsize = 'large')\n",
        "plt.ylabel('Frequency (proportion of total)', fontsize = 'large')\n",
        "\n",
        "ax.spines['top'].set_visible(False)\n",
        "ax.spines['right'].set_visible(False)\n",
        "\n",
        "plt.title('Distribution of original text lengths')\n",
        "\n",
        "# save model\n",
        "save_path = '/content/drive/My Drive/ARP/figures/original_text_distribution.png'\n",
        "\n",
        "fig.savefig(save_path)"
      ],
      "execution_count": null,
      "outputs": [
        {
          "output_type": "display_data",
          "data": {
            "image/png": "[encoded data removed]",
            "text/plain": [
              "<Figure size 504x504 with 1 Axes>"
            ]
          },
          "metadata": {
            "needs_background": "light"
          }
        }
      ]
    },
    {
      "cell_type": "code",
      "metadata": {
        "colab": {
          "base_uri": "https://localhost:8080/"
        },
        "id": "X3ZArKcHwao8",
        "outputId": "b65ca70a-b064-4424-dbec-5e1da812c440"
      },
      "source": [
        "# descriptive stats\n",
        "\n",
        "# descriptive stats\n",
        "\n",
        "# get list with each element repeated by its frequency\n",
        "ori_token_ele = sorted(ori_token_counter.elements())\n",
        "\n",
        "print(f'Count: {len(ori_token_ele)}')\n",
        "print(f'Mean: {np.mean(ori_token_ele)}')\n",
        "print(f'Median: {np.median(ori_token_ele)}')\n",
        "print(f'Standard deviation: {np.std(ori_token_ele)}')\n",
        "print(f'Min: {np.min(ori_token_ele)}')\n",
        "print(f'Max: {np.max(ori_token_ele)}')\n"
      ],
      "execution_count": null,
      "outputs": [
        {
          "output_type": "stream",
          "text": [
            "Count: 1400000\n",
            "Mean: 108.57893785714286\n",
            "Median: 72.0\n",
            "Standard deviation: 115.75599700089778\n",
            "Min: 3\n",
            "Max: 3998\n"
          ],
          "name": "stdout"
        }
      ]
    },
    {
      "cell_type": "markdown",
      "metadata": {
        "id": "2dX2afMnrcll"
      },
      "source": [
        "How do lengths change over different labels in the sample? "
      ]
    },
    {
      "cell_type": "code",
      "metadata": {
        "colab": {
          "base_uri": "https://localhost:8080/",
          "height": 417
        },
        "id": "sJBZM5PYrRkn",
        "outputId": "746497c4-d9cd-45fd-da20-db5bc9cca061"
      },
      "source": [
        "# convert train sample to data frame to perform group by operations\n",
        "\n",
        "train_df = pd.DataFrame(train_data)\n",
        "train_df.columns = ['labels', 'text']\n",
        "train_df"
      ],
      "execution_count": null,
      "outputs": [
        {
          "output_type": "execute_result",
          "data": {
            "text/html": [
              "<div>\n",
              "<style scoped>\n",
              "    .dataframe tbody tr th:only-of-type {\n",
              "        vertical-align: middle;\n",
              "    }\n",
              "\n",
              "    .dataframe tbody tr th {\n",
              "        vertical-align: top;\n",
              "    }\n",
              "\n",
              "    .dataframe thead th {\n",
              "        text-align: right;\n",
              "    }\n",
              "</style>\n",
              "<table border=\"1\" class=\"dataframe\">\n",
              "  <thead>\n",
              "    <tr style=\"text-align: right;\">\n",
              "      <th></th>\n",
              "      <th>labels</th>\n",
              "      <th>text</th>\n",
              "    </tr>\n",
              "  </thead>\n",
              "  <tbody>\n",
              "    <tr>\n",
              "      <th>0</th>\n",
              "      <td>9</td>\n",
              "      <td>im gay and i like this girl but shes taken and...</td>\n",
              "    </tr>\n",
              "    <tr>\n",
              "      <th>1</th>\n",
              "      <td>8</td>\n",
              "      <td>Who was the best in American Idol tonight? I l...</td>\n",
              "    </tr>\n",
              "    <tr>\n",
              "      <th>2</th>\n",
              "      <td>3</td>\n",
              "      <td>How can I cure excessive underarm sweat, I hav...</td>\n",
              "    </tr>\n",
              "    <tr>\n",
              "      <th>3</th>\n",
              "      <td>2</td>\n",
              "      <td>why we substuite assay by titrations caliculat...</td>\n",
              "    </tr>\n",
              "    <tr>\n",
              "      <th>4</th>\n",
              "      <td>4</td>\n",
              "      <td>what if you know your teacher likes you, but s...</td>\n",
              "    </tr>\n",
              "    <tr>\n",
              "      <th>...</th>\n",
              "      <td>...</td>\n",
              "      <td>...</td>\n",
              "    </tr>\n",
              "    <tr>\n",
              "      <th>48995</th>\n",
              "      <td>6</td>\n",
              "      <td>What Submisssion hold would you use as a finis...</td>\n",
              "    </tr>\n",
              "    <tr>\n",
              "      <th>48996</th>\n",
              "      <td>10</td>\n",
              "      <td>what does the patriot act do to take away amer...</td>\n",
              "    </tr>\n",
              "    <tr>\n",
              "      <th>48997</th>\n",
              "      <td>8</td>\n",
              "      <td>is gospel or rap music better and why?is it be...</td>\n",
              "    </tr>\n",
              "    <tr>\n",
              "      <th>48998</th>\n",
              "      <td>7</td>\n",
              "      <td>is 630 a good score on the credit report?  Not...</td>\n",
              "    </tr>\n",
              "    <tr>\n",
              "      <th>48999</th>\n",
              "      <td>7</td>\n",
              "      <td>What are the main crops of the world?  Commodi...</td>\n",
              "    </tr>\n",
              "  </tbody>\n",
              "</table>\n",
              "<p>49000 rows × 2 columns</p>\n",
              "</div>"
            ],
            "text/plain": [
              "       labels                                               text\n",
              "0           9  im gay and i like this girl but shes taken and...\n",
              "1           8  Who was the best in American Idol tonight? I l...\n",
              "2           3  How can I cure excessive underarm sweat, I hav...\n",
              "3           2  why we substuite assay by titrations caliculat...\n",
              "4           4  what if you know your teacher likes you, but s...\n",
              "...       ...                                                ...\n",
              "48995       6  What Submisssion hold would you use as a finis...\n",
              "48996      10  what does the patriot act do to take away amer...\n",
              "48997       8  is gospel or rap music better and why?is it be...\n",
              "48998       7  is 630 a good score on the credit report?  Not...\n",
              "48999       7  What are the main crops of the world?  Commodi...\n",
              "\n",
              "[49000 rows x 2 columns]"
            ]
          },
          "metadata": {},
          "execution_count": 60
        }
      ]
    },
    {
      "cell_type": "code",
      "metadata": {
        "id": "N-5rHt4ys4sk"
      },
      "source": [
        "# get length of text for each entry\n",
        "\n",
        "text_len = [len(tokenizer(text)) for label, text in train_data]"
      ],
      "execution_count": null,
      "outputs": []
    },
    {
      "cell_type": "code",
      "metadata": {
        "id": "XnO8Z9fbvwUO"
      },
      "source": [
        "#add to dataframe\n",
        "train_df.loc[:,'text_len'] = text_len"
      ],
      "execution_count": null,
      "outputs": []
    },
    {
      "cell_type": "code",
      "metadata": {
        "colab": {
          "base_uri": "https://localhost:8080/",
          "height": 417
        },
        "id": "7JQIQgzmv18t",
        "outputId": "6fb52d0f-d304-4ca0-d026-91b9baeb6d3b"
      },
      "source": [
        "train_df"
      ],
      "execution_count": null,
      "outputs": [
        {
          "output_type": "execute_result",
          "data": {
            "text/html": [
              "<div>\n",
              "<style scoped>\n",
              "    .dataframe tbody tr th:only-of-type {\n",
              "        vertical-align: middle;\n",
              "    }\n",
              "\n",
              "    .dataframe tbody tr th {\n",
              "        vertical-align: top;\n",
              "    }\n",
              "\n",
              "    .dataframe thead th {\n",
              "        text-align: right;\n",
              "    }\n",
              "</style>\n",
              "<table border=\"1\" class=\"dataframe\">\n",
              "  <thead>\n",
              "    <tr style=\"text-align: right;\">\n",
              "      <th></th>\n",
              "      <th>labels</th>\n",
              "      <th>text</th>\n",
              "      <th>text_len</th>\n",
              "    </tr>\n",
              "  </thead>\n",
              "  <tbody>\n",
              "    <tr>\n",
              "      <th>0</th>\n",
              "      <td>9</td>\n",
              "      <td>im gay and i like this girl but shes taken and...</td>\n",
              "      <td>204</td>\n",
              "    </tr>\n",
              "    <tr>\n",
              "      <th>1</th>\n",
              "      <td>8</td>\n",
              "      <td>Who was the best in American Idol tonight? I l...</td>\n",
              "      <td>25</td>\n",
              "    </tr>\n",
              "    <tr>\n",
              "      <th>2</th>\n",
              "      <td>3</td>\n",
              "      <td>How can I cure excessive underarm sweat, I hav...</td>\n",
              "      <td>113</td>\n",
              "    </tr>\n",
              "    <tr>\n",
              "      <th>3</th>\n",
              "      <td>2</td>\n",
              "      <td>why we substuite assay by titrations caliculat...</td>\n",
              "      <td>63</td>\n",
              "    </tr>\n",
              "    <tr>\n",
              "      <th>4</th>\n",
              "      <td>4</td>\n",
              "      <td>what if you know your teacher likes you, but s...</td>\n",
              "      <td>217</td>\n",
              "    </tr>\n",
              "    <tr>\n",
              "      <th>...</th>\n",
              "      <td>...</td>\n",
              "      <td>...</td>\n",
              "      <td>...</td>\n",
              "    </tr>\n",
              "    <tr>\n",
              "      <th>48995</th>\n",
              "      <td>6</td>\n",
              "      <td>What Submisssion hold would you use as a finis...</td>\n",
              "      <td>63</td>\n",
              "    </tr>\n",
              "    <tr>\n",
              "      <th>48996</th>\n",
              "      <td>10</td>\n",
              "      <td>what does the patriot act do to take away amer...</td>\n",
              "      <td>86</td>\n",
              "    </tr>\n",
              "    <tr>\n",
              "      <th>48997</th>\n",
              "      <td>8</td>\n",
              "      <td>is gospel or rap music better and why?is it be...</td>\n",
              "      <td>100</td>\n",
              "    </tr>\n",
              "    <tr>\n",
              "      <th>48998</th>\n",
              "      <td>7</td>\n",
              "      <td>is 630 a good score on the credit report?  Not...</td>\n",
              "      <td>104</td>\n",
              "    </tr>\n",
              "    <tr>\n",
              "      <th>48999</th>\n",
              "      <td>7</td>\n",
              "      <td>What are the main crops of the world?  Commodi...</td>\n",
              "      <td>41</td>\n",
              "    </tr>\n",
              "  </tbody>\n",
              "</table>\n",
              "<p>49000 rows × 3 columns</p>\n",
              "</div>"
            ],
            "text/plain": [
              "       labels                                               text  text_len\n",
              "0           9  im gay and i like this girl but shes taken and...       204\n",
              "1           8  Who was the best in American Idol tonight? I l...        25\n",
              "2           3  How can I cure excessive underarm sweat, I hav...       113\n",
              "3           2  why we substuite assay by titrations caliculat...        63\n",
              "4           4  what if you know your teacher likes you, but s...       217\n",
              "...       ...                                                ...       ...\n",
              "48995       6  What Submisssion hold would you use as a finis...        63\n",
              "48996      10  what does the patriot act do to take away amer...        86\n",
              "48997       8  is gospel or rap music better and why?is it be...       100\n",
              "48998       7  is 630 a good score on the credit report?  Not...       104\n",
              "48999       7  What are the main crops of the world?  Commodi...        41\n",
              "\n",
              "[49000 rows x 3 columns]"
            ]
          },
          "metadata": {},
          "execution_count": 63
        }
      ]
    },
    {
      "cell_type": "code",
      "metadata": {
        "colab": {
          "base_uri": "https://localhost:8080/",
          "height": 388
        },
        "id": "aXahpvq-yLVI",
        "outputId": "94ce8072-afa1-44fc-84b7-64e98b982955"
      },
      "source": [
        "# get mean text lengths by class\n",
        "mean_length = train_df.groupby('labels').agg(np.mean)\n",
        "mean_length"
      ],
      "execution_count": null,
      "outputs": [
        {
          "output_type": "execute_result",
          "data": {
            "text/html": [
              "<div>\n",
              "<style scoped>\n",
              "    .dataframe tbody tr th:only-of-type {\n",
              "        vertical-align: middle;\n",
              "    }\n",
              "\n",
              "    .dataframe tbody tr th {\n",
              "        vertical-align: top;\n",
              "    }\n",
              "\n",
              "    .dataframe thead th {\n",
              "        text-align: right;\n",
              "    }\n",
              "</style>\n",
              "<table border=\"1\" class=\"dataframe\">\n",
              "  <thead>\n",
              "    <tr style=\"text-align: right;\">\n",
              "      <th></th>\n",
              "      <th>text_len</th>\n",
              "    </tr>\n",
              "    <tr>\n",
              "      <th>labels</th>\n",
              "      <th></th>\n",
              "    </tr>\n",
              "  </thead>\n",
              "  <tbody>\n",
              "    <tr>\n",
              "      <th>1</th>\n",
              "      <td>131.273775</td>\n",
              "    </tr>\n",
              "    <tr>\n",
              "      <th>2</th>\n",
              "      <td>116.103295</td>\n",
              "    </tr>\n",
              "    <tr>\n",
              "      <th>3</th>\n",
              "      <td>125.509438</td>\n",
              "    </tr>\n",
              "    <tr>\n",
              "      <th>4</th>\n",
              "      <td>100.322428</td>\n",
              "    </tr>\n",
              "    <tr>\n",
              "      <th>5</th>\n",
              "      <td>96.878893</td>\n",
              "    </tr>\n",
              "    <tr>\n",
              "      <th>6</th>\n",
              "      <td>84.747824</td>\n",
              "    </tr>\n",
              "    <tr>\n",
              "      <th>7</th>\n",
              "      <td>97.252062</td>\n",
              "    </tr>\n",
              "    <tr>\n",
              "      <th>8</th>\n",
              "      <td>80.495962</td>\n",
              "    </tr>\n",
              "    <tr>\n",
              "      <th>9</th>\n",
              "      <td>121.316022</td>\n",
              "    </tr>\n",
              "    <tr>\n",
              "      <th>10</th>\n",
              "      <td>125.637877</td>\n",
              "    </tr>\n",
              "  </tbody>\n",
              "</table>\n",
              "</div>"
            ],
            "text/plain": [
              "          text_len\n",
              "labels            \n",
              "1       131.273775\n",
              "2       116.103295\n",
              "3       125.509438\n",
              "4       100.322428\n",
              "5        96.878893\n",
              "6        84.747824\n",
              "7        97.252062\n",
              "8        80.495962\n",
              "9       121.316022\n",
              "10      125.637877"
            ]
          },
          "metadata": {},
          "execution_count": 64
        }
      ]
    },
    {
      "cell_type": "code",
      "metadata": {
        "colab": {
          "base_uri": "https://localhost:8080/",
          "height": 353
        },
        "id": "uJ0Rmtc7zBDz",
        "outputId": "7acb33b0-7a7f-4358-9820-e2da63850715"
      },
      "source": [
        "# plot results\n",
        "\n",
        "# visualise the label distribution\n",
        "fig = plt.figure(figsize=(5,5))\n",
        "ax = plt.subplot(111)\n",
        "\n",
        "x = mean_length.index\n",
        "y = mean_length['text_len']\n",
        "\n",
        "plt.xlim(0.5,10.5)\n",
        "plt.xticks(np.arange(1,11))\n",
        "\n",
        "ax.bar(x,y)\n",
        "\n",
        "plt.xlabel('Label', fontsize = 'large')\n",
        "plt.ylabel('Mean length', fontsize = 'large')\n",
        "\n",
        "ax.spines['top'].set_visible(False)\n",
        "ax.spines['right'].set_visible(False)\n",
        "\n",
        "plt.title('Mean text length of sampled data')\n",
        "\n",
        "# save model\n",
        "save_path = '/content/drive/My Drive/ARP/figures/text_lengths.png'\n",
        "\n",
        "fig.savefig(save_path)"
      ],
      "execution_count": null,
      "outputs": [
        {
          "output_type": "display_data",
          "data": {
            "image/png": "[encoded data removed]",
            "text/plain": [
              "<Figure size 360x360 with 1 Axes>"
            ]
          },
          "metadata": {
            "needs_background": "light"
          }
        }
      ]
    },
    {
      "cell_type": "markdown",
      "metadata": {
        "id": "w3cthUBuk9uc"
      },
      "source": [
        "### Is this reflective of the original data?"
      ]
    },
    {
      "cell_type": "code",
      "metadata": {
        "colab": {
          "base_uri": "https://localhost:8080/",
          "height": 417
        },
        "id": "Fb1h31qqk4iR",
        "outputId": "334fb63c-eca5-43b2-e1a0-b22e620e992e"
      },
      "source": [
        "train_df_ori = pd.DataFrame(train_original)\n",
        "train_df_ori.columns = ['labels', 'text']\n",
        "train_df_ori"
      ],
      "execution_count": null,
      "outputs": [
        {
          "output_type": "execute_result",
          "data": {
            "text/html": [
              "<div>\n",
              "<style scoped>\n",
              "    .dataframe tbody tr th:only-of-type {\n",
              "        vertical-align: middle;\n",
              "    }\n",
              "\n",
              "    .dataframe tbody tr th {\n",
              "        vertical-align: top;\n",
              "    }\n",
              "\n",
              "    .dataframe thead th {\n",
              "        text-align: right;\n",
              "    }\n",
              "</style>\n",
              "<table border=\"1\" class=\"dataframe\">\n",
              "  <thead>\n",
              "    <tr style=\"text-align: right;\">\n",
              "      <th></th>\n",
              "      <th>labels</th>\n",
              "      <th>text</th>\n",
              "    </tr>\n",
              "  </thead>\n",
              "  <tbody>\n",
              "    <tr>\n",
              "      <th>0</th>\n",
              "      <td>5</td>\n",
              "      <td>why doesn't an optical mouse work on a glass t...</td>\n",
              "    </tr>\n",
              "    <tr>\n",
              "      <th>1</th>\n",
              "      <td>6</td>\n",
              "      <td>What is the best off-road motorcycle trail ? l...</td>\n",
              "    </tr>\n",
              "    <tr>\n",
              "      <th>2</th>\n",
              "      <td>3</td>\n",
              "      <td>What is Trans Fat? How to reduce that? I heard...</td>\n",
              "    </tr>\n",
              "    <tr>\n",
              "      <th>3</th>\n",
              "      <td>7</td>\n",
              "      <td>How many planes Fedex has? I heard that it is ...</td>\n",
              "    </tr>\n",
              "    <tr>\n",
              "      <th>4</th>\n",
              "      <td>7</td>\n",
              "      <td>In the san francisco bay area, does it make se...</td>\n",
              "    </tr>\n",
              "    <tr>\n",
              "      <th>...</th>\n",
              "      <td>...</td>\n",
              "      <td>...</td>\n",
              "    </tr>\n",
              "    <tr>\n",
              "      <th>1399995</th>\n",
              "      <td>3</td>\n",
              "      <td>do all these ads on tv of yoko etc regarding h...</td>\n",
              "    </tr>\n",
              "    <tr>\n",
              "      <th>1399996</th>\n",
              "      <td>7</td>\n",
              "      <td>Ways to sell your video games? Like if you wan...</td>\n",
              "    </tr>\n",
              "    <tr>\n",
              "      <th>1399997</th>\n",
              "      <td>3</td>\n",
              "      <td>is it normal to have nots in your breast or bo...</td>\n",
              "    </tr>\n",
              "    <tr>\n",
              "      <th>1399998</th>\n",
              "      <td>1</td>\n",
              "      <td>Who can speak Hindi?? If you can write it here...</td>\n",
              "    </tr>\n",
              "    <tr>\n",
              "      <th>1399999</th>\n",
              "      <td>5</td>\n",
              "      <td>where can i find websites  were i can have a v...</td>\n",
              "    </tr>\n",
              "  </tbody>\n",
              "</table>\n",
              "<p>1400000 rows × 2 columns</p>\n",
              "</div>"
            ],
            "text/plain": [
              "         labels                                               text\n",
              "0             5  why doesn't an optical mouse work on a glass t...\n",
              "1             6  What is the best off-road motorcycle trail ? l...\n",
              "2             3  What is Trans Fat? How to reduce that? I heard...\n",
              "3             7  How many planes Fedex has? I heard that it is ...\n",
              "4             7  In the san francisco bay area, does it make se...\n",
              "...         ...                                                ...\n",
              "1399995       3  do all these ads on tv of yoko etc regarding h...\n",
              "1399996       7  Ways to sell your video games? Like if you wan...\n",
              "1399997       3  is it normal to have nots in your breast or bo...\n",
              "1399998       1  Who can speak Hindi?? If you can write it here...\n",
              "1399999       5  where can i find websites  were i can have a v...\n",
              "\n",
              "[1400000 rows x 2 columns]"
            ]
          },
          "metadata": {},
          "execution_count": 25
        }
      ]
    },
    {
      "cell_type": "code",
      "metadata": {
        "id": "DJOg4F2HnHt3"
      },
      "source": [
        "# get length of text for each entry\n",
        "\n",
        "text_len_ori = [len(tokenizer(text)) for label, text in train_original]\n",
        "\n",
        "#add to dataframe\n",
        "train_df_ori.loc[:,'text_len'] = text_len_ori"
      ],
      "execution_count": null,
      "outputs": []
    },
    {
      "cell_type": "code",
      "metadata": {
        "colab": {
          "base_uri": "https://localhost:8080/",
          "height": 417
        },
        "id": "4RiUbIWhnQfF",
        "outputId": "74e33816-36c8-4c8c-ea8e-7af159d2d176"
      },
      "source": [
        "train_df_ori"
      ],
      "execution_count": null,
      "outputs": [
        {
          "output_type": "execute_result",
          "data": {
            "text/html": [
              "<div>\n",
              "<style scoped>\n",
              "    .dataframe tbody tr th:only-of-type {\n",
              "        vertical-align: middle;\n",
              "    }\n",
              "\n",
              "    .dataframe tbody tr th {\n",
              "        vertical-align: top;\n",
              "    }\n",
              "\n",
              "    .dataframe thead th {\n",
              "        text-align: right;\n",
              "    }\n",
              "</style>\n",
              "<table border=\"1\" class=\"dataframe\">\n",
              "  <thead>\n",
              "    <tr style=\"text-align: right;\">\n",
              "      <th></th>\n",
              "      <th>labels</th>\n",
              "      <th>text</th>\n",
              "      <th>text_len</th>\n",
              "    </tr>\n",
              "  </thead>\n",
              "  <tbody>\n",
              "    <tr>\n",
              "      <th>0</th>\n",
              "      <td>5</td>\n",
              "      <td>why doesn't an optical mouse work on a glass t...</td>\n",
              "      <td>169</td>\n",
              "    </tr>\n",
              "    <tr>\n",
              "      <th>1</th>\n",
              "      <td>6</td>\n",
              "      <td>What is the best off-road motorcycle trail ? l...</td>\n",
              "      <td>29</td>\n",
              "    </tr>\n",
              "    <tr>\n",
              "      <th>2</th>\n",
              "      <td>3</td>\n",
              "      <td>What is Trans Fat? How to reduce that? I heard...</td>\n",
              "      <td>139</td>\n",
              "    </tr>\n",
              "    <tr>\n",
              "      <th>3</th>\n",
              "      <td>7</td>\n",
              "      <td>How many planes Fedex has? I heard that it is ...</td>\n",
              "      <td>120</td>\n",
              "    </tr>\n",
              "    <tr>\n",
              "      <th>4</th>\n",
              "      <td>7</td>\n",
              "      <td>In the san francisco bay area, does it make se...</td>\n",
              "      <td>196</td>\n",
              "    </tr>\n",
              "    <tr>\n",
              "      <th>...</th>\n",
              "      <td>...</td>\n",
              "      <td>...</td>\n",
              "      <td>...</td>\n",
              "    </tr>\n",
              "    <tr>\n",
              "      <th>1399995</th>\n",
              "      <td>3</td>\n",
              "      <td>do all these ads on tv of yoko etc regarding h...</td>\n",
              "      <td>38</td>\n",
              "    </tr>\n",
              "    <tr>\n",
              "      <th>1399996</th>\n",
              "      <td>7</td>\n",
              "      <td>Ways to sell your video games? Like if you wan...</td>\n",
              "      <td>30</td>\n",
              "    </tr>\n",
              "    <tr>\n",
              "      <th>1399997</th>\n",
              "      <td>3</td>\n",
              "      <td>is it normal to have nots in your breast or bo...</td>\n",
              "      <td>39</td>\n",
              "    </tr>\n",
              "    <tr>\n",
              "      <th>1399998</th>\n",
              "      <td>1</td>\n",
              "      <td>Who can speak Hindi?? If you can write it here...</td>\n",
              "      <td>20</td>\n",
              "    </tr>\n",
              "    <tr>\n",
              "      <th>1399999</th>\n",
              "      <td>5</td>\n",
              "      <td>where can i find websites  were i can have a v...</td>\n",
              "      <td>416</td>\n",
              "    </tr>\n",
              "  </tbody>\n",
              "</table>\n",
              "<p>1400000 rows × 3 columns</p>\n",
              "</div>"
            ],
            "text/plain": [
              "         labels                                               text  text_len\n",
              "0             5  why doesn't an optical mouse work on a glass t...       169\n",
              "1             6  What is the best off-road motorcycle trail ? l...        29\n",
              "2             3  What is Trans Fat? How to reduce that? I heard...       139\n",
              "3             7  How many planes Fedex has? I heard that it is ...       120\n",
              "4             7  In the san francisco bay area, does it make se...       196\n",
              "...         ...                                                ...       ...\n",
              "1399995       3  do all these ads on tv of yoko etc regarding h...        38\n",
              "1399996       7  Ways to sell your video games? Like if you wan...        30\n",
              "1399997       3  is it normal to have nots in your breast or bo...        39\n",
              "1399998       1  Who can speak Hindi?? If you can write it here...        20\n",
              "1399999       5  where can i find websites  were i can have a v...       416\n",
              "\n",
              "[1400000 rows x 3 columns]"
            ]
          },
          "metadata": {},
          "execution_count": 30
        }
      ]
    },
    {
      "cell_type": "code",
      "metadata": {
        "id": "D44oTVWfoot6"
      },
      "source": [
        "# long time required to process the len of text in this dataset - save dataframe for future use\n",
        "\n",
        "path = '/content/drive/My Drive/ARP/data/original_test_length.csv'\n",
        "\n",
        "train_df_ori.to_csv(path)"
      ],
      "execution_count": null,
      "outputs": []
    },
    {
      "cell_type": "code",
      "metadata": {
        "colab": {
          "base_uri": "https://localhost:8080/",
          "height": 388
        },
        "id": "6Rmr78DYsrXi",
        "outputId": "afbdc3c8-e7d2-41af-ac12-3715868aece6"
      },
      "source": [
        "# get mean text lengths by class\n",
        "mean_length_ori = train_df_ori.groupby('labels').agg(np.mean)\n",
        "mean_length_ori"
      ],
      "execution_count": null,
      "outputs": [
        {
          "output_type": "execute_result",
          "data": {
            "text/html": [
              "<div>\n",
              "<style scoped>\n",
              "    .dataframe tbody tr th:only-of-type {\n",
              "        vertical-align: middle;\n",
              "    }\n",
              "\n",
              "    .dataframe tbody tr th {\n",
              "        vertical-align: top;\n",
              "    }\n",
              "\n",
              "    .dataframe thead th {\n",
              "        text-align: right;\n",
              "    }\n",
              "</style>\n",
              "<table border=\"1\" class=\"dataframe\">\n",
              "  <thead>\n",
              "    <tr style=\"text-align: right;\">\n",
              "      <th></th>\n",
              "      <th>text_len</th>\n",
              "    </tr>\n",
              "    <tr>\n",
              "      <th>labels</th>\n",
              "      <th></th>\n",
              "    </tr>\n",
              "  </thead>\n",
              "  <tbody>\n",
              "    <tr>\n",
              "      <th>1</th>\n",
              "      <td>129.966164</td>\n",
              "    </tr>\n",
              "    <tr>\n",
              "      <th>2</th>\n",
              "      <td>116.927257</td>\n",
              "    </tr>\n",
              "    <tr>\n",
              "      <th>3</th>\n",
              "      <td>127.490821</td>\n",
              "    </tr>\n",
              "    <tr>\n",
              "      <th>4</th>\n",
              "      <td>100.320964</td>\n",
              "    </tr>\n",
              "    <tr>\n",
              "      <th>5</th>\n",
              "      <td>97.218207</td>\n",
              "    </tr>\n",
              "    <tr>\n",
              "      <th>6</th>\n",
              "      <td>84.055714</td>\n",
              "    </tr>\n",
              "    <tr>\n",
              "      <th>7</th>\n",
              "      <td>98.660564</td>\n",
              "    </tr>\n",
              "    <tr>\n",
              "      <th>8</th>\n",
              "      <td>82.054479</td>\n",
              "    </tr>\n",
              "    <tr>\n",
              "      <th>9</th>\n",
              "      <td>122.560407</td>\n",
              "    </tr>\n",
              "    <tr>\n",
              "      <th>10</th>\n",
              "      <td>126.534800</td>\n",
              "    </tr>\n",
              "  </tbody>\n",
              "</table>\n",
              "</div>"
            ],
            "text/plain": [
              "          text_len\n",
              "labels            \n",
              "1       129.966164\n",
              "2       116.927257\n",
              "3       127.490821\n",
              "4       100.320964\n",
              "5        97.218207\n",
              "6        84.055714\n",
              "7        98.660564\n",
              "8        82.054479\n",
              "9       122.560407\n",
              "10      126.534800"
            ]
          },
          "metadata": {},
          "execution_count": 32
        }
      ]
    },
    {
      "cell_type": "code",
      "metadata": {
        "colab": {
          "base_uri": "https://localhost:8080/",
          "height": 353
        },
        "id": "MQd1Qe6puLVs",
        "outputId": "59d25a24-3a50-45db-9cce-f234b8c9d4ba"
      },
      "source": [
        "# plot results\n",
        "\n",
        "# visualise the label distribution\n",
        "fig = plt.figure(figsize=(5,5))\n",
        "ax = plt.subplot(111)\n",
        "\n",
        "x = mean_length_ori.index\n",
        "y = mean_length_ori['text_len']\n",
        "\n",
        "plt.xlim(0.5,10.5)\n",
        "plt.xticks(np.arange(1,11))\n",
        "\n",
        "ax.bar(x,y)\n",
        "\n",
        "plt.xlabel('Label', fontsize = 'large')\n",
        "plt.ylabel('Mean length', fontsize = 'large')\n",
        "\n",
        "ax.spines['top'].set_visible(False)\n",
        "ax.spines['right'].set_visible(False)\n",
        "\n",
        "plt.title('Mean text length of original data')\n",
        "\n",
        "# save model\n",
        "save_path = '/content/drive/My Drive/ARP/figures/text_lengths_ori.png'\n",
        "\n",
        "fig.savefig(save_path)"
      ],
      "execution_count": null,
      "outputs": [
        {
          "output_type": "display_data",
          "data": {
            "image/png": "[encoded data removed]",
            "text/plain": [
              "<Figure size 360x360 with 1 Axes>"
            ]
          },
          "metadata": {
            "needs_background": "light"
          }
        }
      ]
    },
    {
      "cell_type": "code",
      "metadata": {
        "id": "IVZCtInMuTDk"
      },
      "source": [
        ""
      ],
      "execution_count": null,
      "outputs": []
    }
  ]
}